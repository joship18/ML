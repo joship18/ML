{
 "cells": [
  {
   "cell_type": "code",
   "execution_count": 1,
   "metadata": {},
   "outputs": [],
   "source": [
    "import pandas as pd\n",
    "import numpy as np\n",
    "import matplotlib.pyplot as plt"
   ]
  },
  {
   "cell_type": "code",
   "execution_count": 9,
   "metadata": {},
   "outputs": [],
   "source": [
    "import random\n",
    "from sklearn.datasets import load_boston"
   ]
  },
  {
   "cell_type": "code",
   "execution_count": 17,
   "metadata": {},
   "outputs": [],
   "source": [
    "boston = load_boston()\n",
    "X = boston[\"data\"]\n",
    "Y = boston[\"target\"]"
   ]
  },
  {
   "cell_type": "code",
   "execution_count": 18,
   "metadata": {},
   "outputs": [
    {
     "data": {
      "text/plain": [
       "array([[1.0000e+00, 6.3200e-03, 1.8000e+01, ..., 1.5300e+01, 3.9690e+02,\n",
       "        4.9800e+00],\n",
       "       [1.0000e+00, 2.7310e-02, 0.0000e+00, ..., 1.7800e+01, 3.9690e+02,\n",
       "        9.1400e+00],\n",
       "       [1.0000e+00, 2.7290e-02, 0.0000e+00, ..., 1.7800e+01, 3.9283e+02,\n",
       "        4.0300e+00],\n",
       "       ...,\n",
       "       [1.0000e+00, 6.0760e-02, 0.0000e+00, ..., 2.1000e+01, 3.9690e+02,\n",
       "        5.6400e+00],\n",
       "       [1.0000e+00, 1.0959e-01, 0.0000e+00, ..., 2.1000e+01, 3.9345e+02,\n",
       "        6.4800e+00],\n",
       "       [1.0000e+00, 4.7410e-02, 0.0000e+00, ..., 2.1000e+01, 3.9690e+02,\n",
       "        7.8800e+00]])"
      ]
     },
     "execution_count": 18,
     "metadata": {},
     "output_type": "execute_result"
    }
   ],
   "source": [
    "X=np.insert(X,0,values=np.ones(X.shape[0]),axis=1)\n",
    "X"
   ]
  },
  {
   "cell_type": "code",
   "execution_count": 25,
   "metadata": {},
   "outputs": [],
   "source": [
    "mask = np.random.rand(X.shape[0]) < 0.8"
   ]
  },
  {
   "cell_type": "code",
   "execution_count": 27,
   "metadata": {},
   "outputs": [
    {
     "data": {
      "text/plain": [
       "417"
      ]
     },
     "execution_count": 27,
     "metadata": {},
     "output_type": "execute_result"
    }
   ],
   "source": [
    "len(mask[mask == True])"
   ]
  },
  {
   "cell_type": "code",
   "execution_count": 29,
   "metadata": {},
   "outputs": [],
   "source": [
    "X_train = X[mask]\n",
    "X_test = X[~mask]"
   ]
  },
  {
   "cell_type": "code",
   "execution_count": 34,
   "metadata": {},
   "outputs": [],
   "source": [
    "Y = Y.reshape(X.shape[0],1)\n",
    "Y_train = Y[mask]\n",
    "Y_test = Y[~mask]"
   ]
  },
  {
   "cell_type": "code",
   "execution_count": 45,
   "metadata": {},
   "outputs": [],
   "source": [
    "def compute_cost(X, y, theta):\n",
    "    \n",
    "    m = y.size\n",
    "    \n",
    "    J = 0\n",
    "    \n",
    "    h = X.dot(theta)\n",
    "    \n",
    "    J = (1/(2*m))*np.sum(np.square(h-y))\n",
    "    \n",
    "    return(J)"
   ]
  },
  {
   "cell_type": "code",
   "execution_count": 177,
   "metadata": {},
   "outputs": [],
   "source": [
    "def GD(X, y, alpha=0.000001, num_iters=1000):\n",
    "    m = X.shape[0]\n",
    "    J_hist = np.zeros(num_iters)\n",
    "    \n",
    "    theta = np.zeros((X.shape[1],1))\n",
    "    \n",
    "        \n",
    "    for i in range(num_iters):\n",
    "        h = X.dot(theta)\n",
    "       # print(h)\n",
    "        theta = theta - alpha*(1/m)*(X.T.dot(h-y))\n",
    "        \n",
    "        J_hist[i] = compute_cost(X, y, theta)\n",
    "        if(i!=0 and J_hist[i] > J_hist[i-1]):\n",
    "            print(\"error ,reduce alpha\")\n",
    "            J_hist = J_hist[0:i-1]\n",
    "            break\n",
    "    \n",
    "    return (theta, J_hist)\n",
    "    "
   ]
  },
  {
   "cell_type": "code",
   "execution_count": 178,
   "metadata": {},
   "outputs": [],
   "source": [
    "theta, cost_J = GD(X_train, Y_train)"
   ]
  },
  {
   "cell_type": "code",
   "execution_count": 179,
   "metadata": {},
   "outputs": [
    {
     "data": {
      "text/plain": [
       "[<matplotlib.lines.Line2D at 0x7fae701d88d0>]"
      ]
     },
     "execution_count": 179,
     "metadata": {},
     "output_type": "execute_result"
    },
    {
     "data": {
      "image/png": "[encoded data removed]",
      "text/plain": [
       "<Figure size 432x288 with 1 Axes>"
      ]
     },
     "metadata": {
      "needs_background": "light"
     },
     "output_type": "display_data"
    }
   ],
   "source": [
    "plt.plot(cost_J)"
   ]
  },
  {
   "cell_type": "code",
   "execution_count": 180,
   "metadata": {},
   "outputs": [],
   "source": [
    "def predict(A,theta):\n",
    "    return np.dot(A,theta)"
   ]
  },
  {
   "cell_type": "code",
   "execution_count": 184,
   "metadata": {},
   "outputs": [
    {
     "data": {
      "text/plain": [
       "array([[  0.98211048],\n",
       "       [-12.20944216],\n",
       "       [  1.49422949],\n",
       "       [ -2.66647478],\n",
       "       [  2.18757827],\n",
       "       [  5.74764268],\n",
       "       [  8.94398351],\n",
       "       [  4.04339114],\n",
       "       [  6.09489069],\n",
       "       [ -1.16670644],\n",
       "       [ -2.38031495],\n",
       "       [  3.62575832],\n",
       "       [  6.89177364],\n",
       "       [  6.33580294],\n",
       "       [  3.11678932],\n",
       "       [  0.58281658],\n",
       "       [ -0.89174765],\n",
       "       [  2.40428898],\n",
       "       [  1.18312888],\n",
       "       [ -2.56499949],\n",
       "       [  4.19258684],\n",
       "       [  1.58310733],\n",
       "       [  3.26340254],\n",
       "       [  5.53402716],\n",
       "       [ -3.65245857],\n",
       "       [ -6.42523667],\n",
       "       [ -5.84831608],\n",
       "       [  1.10026878],\n",
       "       [ -4.64602978],\n",
       "       [ -4.38120608],\n",
       "       [ -5.17683329],\n",
       "       [ -1.6105796 ],\n",
       "       [  1.87443545],\n",
       "       [ -3.43449602],\n",
       "       [ -5.02959432],\n",
       "       [  2.2392747 ],\n",
       "       [  1.91233876],\n",
       "       [ -3.94147169],\n",
       "       [-21.39803779],\n",
       "       [ -8.63039454],\n",
       "       [ -1.65055772],\n",
       "       [ -0.80090747],\n",
       "       [ -0.98809589],\n",
       "       [ -5.24747704],\n",
       "       [ -9.05154524],\n",
       "       [ -6.20288125],\n",
       "       [  3.7721591 ],\n",
       "       [  4.31878601],\n",
       "       [ -4.82051002],\n",
       "       [  3.51373747],\n",
       "       [-10.68903153],\n",
       "       [ -2.9924967 ],\n",
       "       [  1.28310502],\n",
       "       [  4.78395382],\n",
       "       [  2.73355234],\n",
       "       [  2.36105359],\n",
       "       [  1.26303589],\n",
       "       [  3.16344558],\n",
       "       [  4.70414708],\n",
       "       [  4.45603233],\n",
       "       [ -0.31224435],\n",
       "       [-27.83520891],\n",
       "       [  8.79996582],\n",
       "       [ 15.85068389],\n",
       "       [ 13.84698824],\n",
       "       [ 10.4162782 ],\n",
       "       [ 13.58281141],\n",
       "       [ 15.26741393],\n",
       "       [-16.53957978],\n",
       "       [ -3.08802287],\n",
       "       [  5.0637937 ],\n",
       "       [ -9.41240988],\n",
       "       [-10.03729192],\n",
       "       [ -8.2504341 ],\n",
       "       [  4.20977986],\n",
       "       [  6.14979967],\n",
       "       [  4.34077445],\n",
       "       [  0.09602903],\n",
       "       [-17.51880629],\n",
       "       [  8.71609453],\n",
       "       [  0.04914626],\n",
       "       [ -1.08905766],\n",
       "       [  1.74452236],\n",
       "       [  1.56157954],\n",
       "       [  2.1313573 ],\n",
       "       [  8.49424754],\n",
       "       [  1.99994704],\n",
       "       [  5.52123797],\n",
       "       [  3.33421567]])"
      ]
     },
     "execution_count": 184,
     "metadata": {},
     "output_type": "execute_result"
    }
   ],
   "source": [
    "predict(X_test, theta) - Y_test"
   ]
  }
 ],
 "metadata": {
  "kernelspec": {
   "display_name": "Python 3",
   "language": "python",
   "name": "python3"
  },
  "language_info": {
   "codemirror_mode": {
    "name": "ipython",
    "version": 3
   },
   "file_extension": ".py",
   "mimetype": "text/x-python",
   "name": "python",
   "nbconvert_exporter": "python",
   "pygments_lexer": "ipython3",
   "version": "3.6.7"
  }
 },
 "nbformat": 4,
 "nbformat_minor": 2
}
